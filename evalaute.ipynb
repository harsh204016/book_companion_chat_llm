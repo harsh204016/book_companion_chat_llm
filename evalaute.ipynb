{
 "cells": [
  {
   "cell_type": "code",
   "execution_count": 4,
   "metadata": {},
   "outputs": [],
   "source": [
    "from langchain_community.vectorstores import FAISS\n",
    "from langchain_community.embeddings.huggingface import HuggingFaceEmbeddings\n"
   ]
  },
  {
   "cell_type": "code",
   "execution_count": null,
   "metadata": {},
   "outputs": [],
   "source": []
  },
  {
   "cell_type": "code",
   "execution_count": 5,
   "metadata": {},
   "outputs": [
    {
     "name": "stderr",
     "output_type": "stream",
     "text": [
      "/home/harsh/Documents/langchain/book_companion/langchain/lib/python3.10/site-packages/tqdm/auto.py:21: TqdmWarning: IProgress not found. Please update jupyter and ipywidgets. See https://ipywidgets.readthedocs.io/en/stable/user_install.html\n",
      "  from .autonotebook import tqdm as notebook_tqdm\n"
     ]
    }
   ],
   "source": [
    "embeddings = HuggingFaceEmbeddings(model_name=\"all-MiniLM-L6-v2\")\n",
    "new_db = FAISS.load_local(\"faiss_index\", embeddings)"
   ]
  },
  {
   "cell_type": "code",
   "execution_count": 7,
   "metadata": {},
   "outputs": [
    {
     "data": {
      "text/plain": [
       "[(Document(page_content='5. Article 358 extends to the entire country whereas Article 359 may extend to the entire country or a part of it.\\n\\n6. Article 358 suspends Article 19 completely while Article 359 does not empower the suspension of the enforcement of Articles 20 and 21.\\n\\n7. Article 358 enables the State to make any law or take any executive action inconsistent with Fundamental Rights under Article 19 while Article 359 enables the State to make any law or take any executive action inconsistent with those Fundamental Rights whose enforcement is suspended by the Presidential Order.\\n\\nThere is also a similarity between Article 358 and Article 359. Both provide immunity from challenge to only those laws which are related with the Emergency and not other laws. Also, the executive action taken only under such a law is protected by both.\\n\\nDeclarations Made So Far\\n\\nThis type of Emergency has been proclaimed three times so far– in 1962, 1971 and 1975.', metadata={'source': '/home/harsh/Documents/langchain/book_companion/Indian Polity by M Laxmikanth.pdf'}),\n",
       "  0.9408649),\n",
       " (Document(page_content='10. Article 143 authorises the President to seek the opinion of the Supreme Court on any question of law or fact and on any pre-constitution legal matters.\\n\\n11. Article 226 empowers the High Courts to issue directions or orders or writs for the enforcement of the Fundamental Rights and for any other purpose.\\n\\n12. Article 227 vests in\\n\\n12. Article 227 vests in\\n\\nthe power of superintendence over all courts and tribunals within their respective territorial jurisdictions (except military courts or tribunals).\\n\\n13. Article 245 deals with the territorial extent of laws made by Parliament and by the Legislatures of States.\\n\\n14. Article 246 deals with the subject matter of laws made by Parliament and by the Legislatures of States (i.e., Union List, State List and Concurrent List).', metadata={'source': '/home/harsh/Documents/langchain/book_companion/Indian Polity by M Laxmikanth.pdf'}),\n",
       "  1.0084293),\n",
       " (Document(page_content='he original Constitution did not contain provisions with respect to tribunals. The 42nd Amendment Act of 1976 added a new Part XIV-A to the Constitution. This part is entitled as ‘Tribunals’ and consists of only two Articles–Article 323 A dealing with administrative tribunals and Article 323 B dealing with tribunals for other matters.\\n\\nADMINISTRATIVE TRIBUNALS\\n\\nArticle 323 A empowers the Parliament to provide for the establishment of administrative tribunals for the adjudication of disputes relating to recruitment and conditions of service of persons appointed to public services of the Centre, the states, local bodies, public corporations and other public authorities. In other words, Article 323 A enables the Parliament to take out the adjudication of disputes relating to service matters from the civil courts and the high courts and place it before the administrative tribunals.', metadata={'source': '/home/harsh/Documents/langchain/book_companion/Indian Polity by M Laxmikanth.pdf'}),\n",
       "  1.0336802),\n",
       " (Document(page_content='The 44th Amendment Act of 1978 restricted the scope of Article 359 in two ways. Firstly, the President cannot suspend the right to move the Court for the enforcement of fundamental rights guaranteed by Articles 20 to 21. In other words, the right to protection in respect of conviction for offences (Article 20) and the right to life and personal liberty (Article 21) remain enforceable even during emergency. Secondly, only those laws which are related with the emergency are protected from being challenged and not other laws and the executive action taken only under such a law, is protected.\\n\\nDistinction Between Articles 358 and 359\\n\\nThe differences between Articles 358 and 359 can be summarised as follows:\\n\\n1. Article 358 is confined to Fundamental Rights under Article 19 only whereas Article 359 extends those Fundamental Rights whose enforcement is suspended by the Presidential Order. to all', metadata={'source': '/home/harsh/Documents/langchain/book_companion/Indian Polity by M Laxmikanth.pdf'}),\n",
       "  1.0466107)]"
      ]
     },
     "execution_count": 7,
     "metadata": {},
     "output_type": "execute_result"
    }
   ],
   "source": [
    "new_db.similarity_search_with_score(\"What is article 370?\")"
   ]
  },
  {
   "cell_type": "code",
   "execution_count": null,
   "metadata": {},
   "outputs": [],
   "source": []
  }
 ],
 "metadata": {
  "kernelspec": {
   "display_name": "langchain",
   "language": "python",
   "name": "python3"
  },
  "language_info": {
   "codemirror_mode": {
    "name": "ipython",
    "version": 3
   },
   "file_extension": ".py",
   "mimetype": "text/x-python",
   "name": "python",
   "nbconvert_exporter": "python",
   "pygments_lexer": "ipython3",
   "version": "3.10.12"
  }
 },
 "nbformat": 4,
 "nbformat_minor": 2
}
